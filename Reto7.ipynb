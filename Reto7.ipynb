{
  "cells": [
    {
      "cell_type": "markdown",
      "metadata": {
        "id": "view-in-github",
        "colab_type": "text"
      },
      "source": [
        "<a href=\"https://colab.research.google.com/github/GuerreroAtomico75/Reto7-QUE-RETO-TAN-LARGO.../blob/main/Reto7.ipynb\" target=\"_parent\"><img src=\"https://colab.research.google.com/assets/colab-badge.svg\" alt=\"Open In Colab\"/></a>"
      ]
    },
    {
      "cell_type": "markdown",
      "metadata": {
        "id": "cVv8i1DEuAA2"
      },
      "source": [
        "# RETO 7 / QUE RETO TAN LARGO\n",
        "### Problemas de este reto\n",
        "---\n",
        "#### 1. Imprimir un listado con los números del 1 al 100 cada uno con su respectivo cuadrado.\n",
        "##### Solución:\n",
        "La documentación del código estará en el mismo código\n",
        "##### Código:\n"
      ]
    },
    {
      "cell_type": "code",
      "execution_count": null,
      "metadata": {
        "id": "b9w7s_r4uAA7",
        "outputId": "a73236c7-9eb5-4009-dd8e-162547597638"
      },
      "outputs": [
        {
          "name": "stdout",
          "output_type": "stream",
          "text": [
            "1, 1\n",
            "2, 4\n",
            "3, 9\n",
            "4, 16\n",
            "5, 25\n",
            "6, 36\n",
            "7, 49\n",
            "8, 64\n",
            "9, 81\n",
            "10, 100\n",
            "11, 121\n",
            "12, 144\n",
            "13, 169\n",
            "14, 196\n",
            "15, 225\n",
            "16, 256\n",
            "17, 289\n",
            "18, 324\n",
            "19, 361\n",
            "20, 400\n",
            "21, 441\n",
            "22, 484\n",
            "23, 529\n",
            "24, 576\n",
            "25, 625\n",
            "26, 676\n",
            "27, 729\n",
            "28, 784\n",
            "29, 841\n",
            "30, 900\n",
            "31, 961\n",
            "32, 1024\n",
            "33, 1089\n",
            "34, 1156\n",
            "35, 1225\n",
            "36, 1296\n",
            "37, 1369\n",
            "38, 1444\n",
            "39, 1521\n",
            "40, 1600\n",
            "41, 1681\n",
            "42, 1764\n",
            "43, 1849\n",
            "44, 1936\n",
            "45, 2025\n",
            "46, 2116\n",
            "47, 2209\n",
            "48, 2304\n",
            "49, 2401\n",
            "50, 2500\n",
            "51, 2601\n",
            "52, 2704\n",
            "53, 2809\n",
            "54, 2916\n",
            "55, 3025\n",
            "56, 3136\n",
            "57, 3249\n",
            "58, 3364\n",
            "59, 3481\n",
            "60, 3600\n",
            "61, 3721\n",
            "62, 3844\n",
            "63, 3969\n",
            "64, 4096\n",
            "65, 4225\n",
            "66, 4356\n",
            "67, 4489\n",
            "68, 4624\n",
            "69, 4761\n",
            "70, 4900\n",
            "71, 5041\n",
            "72, 5184\n",
            "73, 5329\n",
            "74, 5476\n",
            "75, 5625\n",
            "76, 5776\n",
            "77, 5929\n",
            "78, 6084\n",
            "79, 6241\n",
            "80, 6400\n",
            "81, 6561\n",
            "82, 6724\n",
            "83, 6889\n",
            "84, 7056\n",
            "85, 7225\n",
            "86, 7396\n",
            "87, 7569\n",
            "88, 7744\n",
            "89, 7921\n",
            "90, 8100\n",
            "91, 8281\n",
            "92, 8464\n",
            "93, 8649\n",
            "94, 8836\n",
            "95, 9025\n",
            "96, 9216\n",
            "97, 9409\n",
            "98, 9604\n",
            "99, 9801\n",
            "100, 10000\n",
            "Fin del ciclo\n"
          ]
        }
      ],
      "source": [
        "n : int = 1 #Declaramos e inicializamos la variable\n",
        "while n <= 100: #Aplicamos iteración\n",
        "    cuadrado = n**2 #aplicamos num al cuadrado\n",
        "    print (n, cuadrado, sep=\", \") #Imprimimos el num, el cuadrado del num y los separamos con sep=\n",
        "    n += 1 #Actualizamos +1 para que se evaluen los demás enteros posibles\n",
        "print(\"Fin del ciclo\") #Si la respuesta booleana de la iteración no es verdadera se acaba el ciclo e imprime 'fin de ciclo'"
      ]
    },
    {
      "cell_type": "markdown",
      "metadata": {
        "id": "J5FfpPk3uAA-"
      },
      "source": [
        "##### El diagrama de flujo sería el siguiente:\n",
        "```mermaid\n",
        "graph TD\n",
        "    A(Inicio) --> B[Inicializar n con 1]\n",
        "    B --> C[¿n <= 100?]\n",
        "    C -- Sí --> D[Calcular cuadrado: n^2]\n",
        "    D --> E[Mostrar n y cuadrado]\n",
        "    E --> F[n += 1]\n",
        "    F --> C\n",
        "    C -- No --> G[Fin del ciclo]\n",
        "    G --> H[Fin]\n",
        "```\n",
        "---"
      ]
    },
    {
      "cell_type": "markdown",
      "metadata": {
        "id": "jNB54UI-uAA_"
      },
      "source": [
        "#### 2. Imprimir un listado con los números impares desde 1 hasta 999 y seguidamente otro listado con los números pares desde 2 hasta 1000.\n",
        "##### Solución:\n",
        "La documentación del código estará en el mismo código\n",
        "##### Código:"
      ]
    },
    {
      "cell_type": "code",
      "execution_count": null,
      "metadata": {
        "id": "5US6KGwbuABA",
        "outputId": "c29ca004-ecb8-4a1f-8f59-125b4755f677"
      },
      "outputs": [
        {
          "name": "stdout",
          "output_type": "stream",
          "text": [
            "[1, 3, 5, 7, 9, 11, 13, 15, 17, 19, 21, 23, 25, 27, 29, 31, 33, 35, 37, 39, 41, 43, 45, 47, 49, 51, 53, 55, 57, 59, 61, 63, 65, 67, 69, 71, 73, 75, 77, 79, 81, 83, 85, 87, 89, 91, 93, 95, 97, 99, 101, 103, 105, 107, 109, 111, 113, 115, 117, 119, 121, 123, 125, 127, 129, 131, 133, 135, 137, 139, 141, 143, 145, 147, 149, 151, 153, 155, 157, 159, 161, 163, 165, 167, 169, 171, 173, 175, 177, 179, 181, 183, 185, 187, 189, 191, 193, 195, 197, 199, 201, 203, 205, 207, 209, 211, 213, 215, 217, 219, 221, 223, 225, 227, 229, 231, 233, 235, 237, 239, 241, 243, 245, 247, 249, 251, 253, 255, 257, 259, 261, 263, 265, 267, 269, 271, 273, 275, 277, 279, 281, 283, 285, 287, 289, 291, 293, 295, 297, 299, 301, 303, 305, 307, 309, 311, 313, 315, 317, 319, 321, 323, 325, 327, 329, 331, 333, 335, 337, 339, 341, 343, 345, 347, 349, 351, 353, 355, 357, 359, 361, 363, 365, 367, 369, 371, 373, 375, 377, 379, 381, 383, 385, 387, 389, 391, 393, 395, 397, 399, 401, 403, 405, 407, 409, 411, 413, 415, 417, 419, 421, 423, 425, 427, 429, 431, 433, 435, 437, 439, 441, 443, 445, 447, 449, 451, 453, 455, 457, 459, 461, 463, 465, 467, 469, 471, 473, 475, 477, 479, 481, 483, 485, 487, 489, 491, 493, 495, 497, 499, 501, 503, 505, 507, 509, 511, 513, 515, 517, 519, 521, 523, 525, 527, 529, 531, 533, 535, 537, 539, 541, 543, 545, 547, 549, 551, 553, 555, 557, 559, 561, 563, 565, 567, 569, 571, 573, 575, 577, 579, 581, 583, 585, 587, 589, 591, 593, 595, 597, 599, 601, 603, 605, 607, 609, 611, 613, 615, 617, 619, 621, 623, 625, 627, 629, 631, 633, 635, 637, 639, 641, 643, 645, 647, 649, 651, 653, 655, 657, 659, 661, 663, 665, 667, 669, 671, 673, 675, 677, 679, 681, 683, 685, 687, 689, 691, 693, 695, 697, 699, 701, 703, 705, 707, 709, 711, 713, 715, 717, 719, 721, 723, 725, 727, 729, 731, 733, 735, 737, 739, 741, 743, 745, 747, 749, 751, 753, 755, 757, 759, 761, 763, 765, 767, 769, 771, 773, 775, 777, 779, 781, 783, 785, 787, 789, 791, 793, 795, 797, 799, 801, 803, 805, 807, 809, 811, 813, 815, 817, 819, 821, 823, 825, 827, 829, 831, 833, 835, 837, 839, 841, 843, 845, 847, 849, 851, 853, 855, 857, 859, 861, 863, 865, 867, 869, 871, 873, 875, 877, 879, 881, 883, 885, 887, 889, 891, 893, 895, 897, 899, 901, 903, 905, 907, 909, 911, 913, 915, 917, 919, 921, 923, 925, 927, 929, 931, 933, 935, 937, 939, 941, 943, 945, 947, 949, 951, 953, 955, 957, 959, 961, 963, 965, 967, 969, 971, 973, 975, 977, 979, 981, 983, 985, 987, 989, 991, 993, 995, 997, 999] ; [2, 4, 6, 8, 10, 12, 14, 16, 18, 20, 22, 24, 26, 28, 30, 32, 34, 36, 38, 40, 42, 44, 46, 48, 50, 52, 54, 56, 58, 60, 62, 64, 66, 68, 70, 72, 74, 76, 78, 80, 82, 84, 86, 88, 90, 92, 94, 96, 98, 100, 102, 104, 106, 108, 110, 112, 114, 116, 118, 120, 122, 124, 126, 128, 130, 132, 134, 136, 138, 140, 142, 144, 146, 148, 150, 152, 154, 156, 158, 160, 162, 164, 166, 168, 170, 172, 174, 176, 178, 180, 182, 184, 186, 188, 190, 192, 194, 196, 198, 200, 202, 204, 206, 208, 210, 212, 214, 216, 218, 220, 222, 224, 226, 228, 230, 232, 234, 236, 238, 240, 242, 244, 246, 248, 250, 252, 254, 256, 258, 260, 262, 264, 266, 268, 270, 272, 274, 276, 278, 280, 282, 284, 286, 288, 290, 292, 294, 296, 298, 300, 302, 304, 306, 308, 310, 312, 314, 316, 318, 320, 322, 324, 326, 328, 330, 332, 334, 336, 338, 340, 342, 344, 346, 348, 350, 352, 354, 356, 358, 360, 362, 364, 366, 368, 370, 372, 374, 376, 378, 380, 382, 384, 386, 388, 390, 392, 394, 396, 398, 400, 402, 404, 406, 408, 410, 412, 414, 416, 418, 420, 422, 424, 426, 428, 430, 432, 434, 436, 438, 440, 442, 444, 446, 448, 450, 452, 454, 456, 458, 460, 462, 464, 466, 468, 470, 472, 474, 476, 478, 480, 482, 484, 486, 488, 490, 492, 494, 496, 498, 500, 502, 504, 506, 508, 510, 512, 514, 516, 518, 520, 522, 524, 526, 528, 530, 532, 534, 536, 538, 540, 542, 544, 546, 548, 550, 552, 554, 556, 558, 560, 562, 564, 566, 568, 570, 572, 574, 576, 578, 580, 582, 584, 586, 588, 590, 592, 594, 596, 598, 600, 602, 604, 606, 608, 610, 612, 614, 616, 618, 620, 622, 624, 626, 628, 630, 632, 634, 636, 638, 640, 642, 644, 646, 648, 650, 652, 654, 656, 658, 660, 662, 664, 666, 668, 670, 672, 674, 676, 678, 680, 682, 684, 686, 688, 690, 692, 694, 696, 698, 700, 702, 704, 706, 708, 710, 712, 714, 716, 718, 720, 722, 724, 726, 728, 730, 732, 734, 736, 738, 740, 742, 744, 746, 748, 750, 752, 754, 756, 758, 760, 762, 764, 766, 768, 770, 772, 774, 776, 778, 780, 782, 784, 786, 788, 790, 792, 794, 796, 798, 800, 802, 804, 806, 808, 810, 812, 814, 816, 818, 820, 822, 824, 826, 828, 830, 832, 834, 836, 838, 840, 842, 844, 846, 848, 850, 852, 854, 856, 858, 860, 862, 864, 866, 868, 870, 872, 874, 876, 878, 880, 882, 884, 886, 888, 890, 892, 894, 896, 898, 900, 902, 904, 906, 908, 910, 912, 914, 916, 918, 920, 922, 924, 926, 928, 930, 932, 934, 936, 938, 940, 942, 944, 946, 948, 950, 952, 954, 956, 958, 960, 962, 964, 966, 968, 970, 972, 974, 976, 978, 980, 982, 984, 986, 988, 990, 992, 994, 996, 998, 1000]\n",
            "Fin del ciclo\n"
          ]
        }
      ],
      "source": [
        "n: int= 1 #Declaramos es Inicializamos la variable 'n'\n",
        "iLista = [] #Creamos las listas, una para los impares y otra para los pares\n",
        "pLista = []\n",
        "while (n <= 1000): #Añadimos la iteración que funcionará si 'n' es menor o igual a 1000\n",
        "    if (n % 2 == 1) or (n/2 == 0.5): #Usamos if para que cada vez que 'n' % 2 nos de 1 sepamos que es impar, hay una excepción y es con el 1, por eso la añadimos con el 'or'. Si n/2 = 0.5. Así se añadirá a la lista al 1\n",
        "        iLista.append(n) #Cada vez que tengamos una respuesta vamos a pedir que la agregue a la lista 'ilista'\n",
        "    n +=1 #Actualizamos a n más 1 para que se evaluen los demás números\n",
        "    if (n % 2 == 0): #Usamos if para cada vez que tenga p % 2 sea 0 entonces será par.\n",
        "        pLista.append(n) #Cada vez que tengamos una respuesta vamos a pedir que la agregue a la lista\n",
        "    n += 1 #Actualizamos a n más 1 para que se evaluen los demás números\n",
        "print (iLista, pLista, sep=\" ; \") #Pedimos que imprima los resultados de cada lista separados.\n",
        "print(\"Fin del ciclo\") #Fin del ciclo"
      ]
    },
    {
      "cell_type": "markdown",
      "metadata": {
        "id": "P7-T49J0uABB"
      },
      "source": [
        "##### Diagrama de flujo:\n",
        "```mermaid\n",
        "graph TD\n",
        "    A(Inicio) --> B[Inicializar n con 1]\n",
        "    B --> C[Inicializar iLista y pLista como listas vacías]\n",
        "    C --> D[¿n <= 1000?]\n",
        "    D -- Sí --> E[¿n es impar o n/2 == 0.5?]\n",
        "    E -- Sí --> F[Agregar n a iLista]\n",
        "    F --> G[Aumentar n en 1]\n",
        "    G --> D\n",
        "    D -- Sí --> H[¿n es par?]\n",
        "    H -- Sí --> I[Agregar n a pLista]\n",
        "    I --> J[Aumentar n en 1]\n",
        "    J --> D\n",
        "    D -- No --> K[Mostrar iLista y pLista]\n",
        "    K --> L[Fin del ciclo]\n",
        "    L --> M(Fin)\n",
        "```\n",
        "---"
      ]
    },
    {
      "cell_type": "markdown",
      "metadata": {
        "id": "kljWWzfUuABC"
      },
      "source": [
        "#### 3. Imprimir los números pares en forma descendente hasta 2 que son menores o iguales a un número natural n ≥ 2 dado.\n",
        "##### Solución\n",
        "La documentación del código está en el mismo código al ponerse comentarios. De esta manera se entenderá más fácil\n"
      ]
    },
    {
      "cell_type": "code",
      "execution_count": null,
      "metadata": {
        "id": "SgjrmgktuABD",
        "outputId": "500e32af-1147-4766-8b38-dc99a052bb83"
      },
      "outputs": [
        {
          "name": "stdout",
          "output_type": "stream",
          "text": [
            "[]\n",
            "Fin del ciclo\n"
          ]
        }
      ],
      "source": [
        "n : int = int(input(\"Ingrese cualquier número entero: \")) #Declaramos e inicializamos la variable pidiendole a la persona que ingrese un número entero.\n",
        "pLista = [] # Creamos la lista 'pLista' que es la que se va a imprimir al final\n",
        "while n >= 2: #Hacemos una iteración que funcionará siempre que se tenga un número mayor o igual a 2\n",
        "    if n % 2 == 0: #Si el número es par entonces se agregará a la lista\n",
        "        pLista.append(n)\n",
        "    n -= 1 #Actualizamos restandole a 'n' -1\n",
        "    if n % 2 == 1: #Si el número es impar entonces simplemente actualizamos 'n'-1\n",
        "        n -= 1\n",
        "print(pLista) # Imprimimos la lista 'pLista' que es donde estarán los enteros\n",
        "print(\"Fin del ciclo\") #Si ya se acaba la iteración se finaliza el ciclo"
      ]
    },
    {
      "cell_type": "markdown",
      "metadata": {
        "id": "YCTcBQnCuABE"
      },
      "source": [
        "##### Diagrama de Flujo\n",
        "```mermaid\n",
        "graph TD\n",
        "    A(Inicio) --> B[Ingresar un valor para n]\n",
        "    B --> C[Inicializar pLista como lista vacía]\n",
        "    C --> D[¿n >= 2?]\n",
        "    D -- Sí --> E[¿n es par?]\n",
        "    E -- Sí --> F[Agregar n a pLista]\n",
        "    F --> G[Restarle n - 1]\n",
        "    G --> D\n",
        "    E -- No --> G\n",
        "    D --> I[¿n es impar?]\n",
        "    I -- Sí --> G\n",
        "    D -- No --> J[Mostrar pLista]\n",
        "    J --> K[Fin del ciclo]\n",
        "    K --> L(Fin)\n",
        "```\n",
        "---"
      ]
    },
    {
      "cell_type": "markdown",
      "metadata": {
        "id": "3Fr3hXLruABE"
      },
      "source": [
        "#### 4. En 2022 el país A tendrá una población de 25 millones de habitantes y el país B de 18.9 millones. Las tasas de crecimiento anual de la población serán de 2% y 3% respectivamente. Desarrollar un algoritmo para informar en que año la población del país B superará a la de A.\n",
        "##### Solución:\n",
        "La documentación del código está en el mismo código al ponerse comentarios. De esta manera se entenderá más fácil\n",
        "##### Código:"
      ]
    },
    {
      "cell_type": "code",
      "execution_count": null,
      "metadata": {
        "id": "b36urbgwuABF",
        "outputId": "6b8a8edf-4a67-451d-de7c-87e531514e35"
      },
      "outputs": [
        {
          "name": "stdout",
          "output_type": "stream",
          "text": [
            "En el año 2054 el pais B supera al pais A poblacionalmente, teniendo en cuenta que se inició la comparación en el 2022\n",
            "Fin de Ciclo\n"
          ]
        }
      ],
      "source": [
        "paisA : float = 25 #Declaramos y inicializamos variables con los datos del problema\n",
        "paisB : float = 18.3\n",
        "crecimientoPaisA = [] #Crearemos una lista que en principio estará vacía porque los datos iniciales del ejercicio son los del año 0\n",
        "crecimientoPaisB = []\n",
        "while paisA > paisB: # Crearemos una iteración que se usará mientras el país A tenga más población que el país B\n",
        "    def calcularCrecimientoPoblacionalPaisA (paisA : float) -> float: #Creamos una función en la que se calcule el crecimiento del país A cada año\n",
        "        porcentajeA = paisA * 0.02 #Primero multiplicamos la población del país por el 2%\n",
        "        aumentoPoblacionalA = porcentajeA + paisA #El resultado dado lo sumamos a la población de ese momento del país\n",
        "        return aumentoPoblacionalA\n",
        "\n",
        "    def calcularCrecimientoPoblacionalPaisB (paisB : float) -> float: #Creamos una función en la que se calcule el crecimiento del país B cada años\n",
        "        porcentajeB = paisB * 0.03 #Primero multiplicamos la población del país por el 3%\n",
        "        aumentoPoblacionalB = porcentajeB + paisB #El resultado dado lo sumamos a la población de ese momento del país\n",
        "        return aumentoPoblacionalB\n",
        "\n",
        "    if __name__ == \"__main__\":\n",
        "        poblacionA = calcularCrecimientoPoblacionalPaisA(paisA) #Tenemos las funciones\n",
        "        poblacionB = calcularCrecimientoPoblacionalPaisB(paisB)\n",
        "        crecimientoPaisA.append(poblacionA) #Estos resultados los agregamos a la lista\n",
        "        crecimientoPaisB.append(poblacionB)\n",
        "\n",
        "    paisA += (poblacionA - paisA) #Actualizamos la población del país, Será la resta de la población al aumentar porcentualmente menos la población que estaba\n",
        "\n",
        "    paisB += (poblacionB - paisB) #Actualizamos la población del país, Será la resta de la población al aumentar porcentualmente menos la población que estaba\n",
        "\n",
        "    añoActual = len(crecimientoPaisA) + 2022 #Sumamos la cantidad de elementos de una de las dos listas más el año 2022\n",
        "\n",
        "    #Si quisieramos ver más a detalle cuando se aumentó poblacionalmente el ejercicio entonces tener en cuenta:\n",
        "    #print(crecimientoPaisA, crecimientoPaisB, sep=\"; \")\n",
        "\n",
        "print(\"En el año\", añoActual,\"el pais B supera al pais A poblacionalmente, teniendo en cuenta que se inició la comparación en el 2022\") #Esta será la respuesta en que año el país B supera al pais A\n",
        "print(\"Fin de Ciclo\")\n"
      ]
    },
    {
      "cell_type": "markdown",
      "metadata": {
        "id": "3BxB7PoMuABG"
      },
      "source": [
        "#### 5. Imprimir el factorial de un número natural n dado.\n",
        "##### Solución:\n",
        "La documentación del código está en el mismo código al ponerse comentarios. De esta manera se entenderá más fácil\n",
        "##### Código:\n"
      ]
    },
    {
      "cell_type": "code",
      "execution_count": null,
      "metadata": {
        "id": "2Y7PptDsuABG",
        "outputId": "cdc7d6d7-a9d2-4da0-8146-66a753725da5"
      },
      "outputs": [
        {
          "name": "stdout",
          "output_type": "stream",
          "text": [
            "5 ! es = 120\n"
          ]
        }
      ],
      "source": [
        "n : int = int(input(\"Introduce un número natural: \")) #Le pedimos al usuario que ingrese un número natural\n",
        "factorial = 1 #Creamos la variable 'factorial' y la inicializamos = 1\n",
        "f = 1 #Creamos la variable 'f' y la inicializamos = 1\n",
        "while f <= n: #Mientras 'f' sea menor o igual que 'n'\n",
        "    factorial *= f #Actualizaremos al 'factorial' multiplicandolo por 'f'\n",
        "    f += 1 #Actualizaremos 'f' sumándole 1\n",
        "print(n,\"! es =\", factorial) #Cuando ya se rompe el ciclo entonces ya podemos imprimir el factorial del número que el usuario ingresó"
      ]
    },
    {
      "cell_type": "markdown",
      "metadata": {
        "id": "LhZPtSg1uABH"
      },
      "source": [
        "#### 6. Implementar un algoritmo que permita adivinar un número dado de 1 a 100, preguntando en cada caso si el número es mayor, menor o igual.\n",
        "##### Solución:\n",
        "La documentación del código está en el mismo código al ponerse comentarios. De esta manera se entenderá más fácil\n",
        "##### Código:"
      ]
    },
    {
      "cell_type": "code",
      "execution_count": null,
      "metadata": {
        "id": "n84V-1p9uABI",
        "outputId": "c0969422-5922-422d-afba-242c7978d757"
      },
      "outputs": [
        {
          "name": "stdout",
          "output_type": "stream",
          "text": [
            "¿El número 47 es el que pensó? Puede responder de la siguiente manera: 'mayor', 'menor' o 'igual'\n",
            "¿El número 16 es el que pensó? Puede responder de la siguiente manera: 'mayor', 'menor' o 'igual'\n",
            "¿El número 2 es el que pensó? Puede responder de la siguiente manera: 'mayor', 'menor' o 'igual'\n",
            "¿El número 45 es el que pensó? Puede responder de la siguiente manera: 'mayor', 'menor' o 'igual'\n",
            "¿El número 27 es el que pensó? Puede responder de la siguiente manera: 'mayor', 'menor' o 'igual'\n",
            "¿El número 10 es el que pensó? Puede responder de la siguiente manera: 'mayor', 'menor' o 'igual'\n",
            "¿El número 13 es el que pensó? Puede responder de la siguiente manera: 'mayor', 'menor' o 'igual'\n",
            "¿El número 12 es el que pensó? Puede responder de la siguiente manera: 'mayor', 'menor' o 'igual'\n",
            "¿El número 11 es el que pensó? Puede responder de la siguiente manera: 'mayor', 'menor' o 'igual'\n",
            "¿El número 11 es el que pensó? Puede responder de la siguiente manera: 'mayor', 'menor' o 'igual'\n",
            "El 11 fue el que usted pensó\n",
            "Fin de la iteración\n"
          ]
        }
      ],
      "source": [
        "import random #Importamos la bibloteca random\n",
        "\n",
        "numero = int(input(\"Ingrese un número que usted piense de 1 a 100: \")) #Le pedimos al usuario que ingrese un número que él esté pensando de 1 a 100\n",
        "numeroMaximo = 100 #Ponemos un número máximo que en este caso sera el 100\n",
        "numeroMinimo = 1 # Ponemos un número mínimo que en este caso será el 1\n",
        "\n",
        "while 1 <= numero <= 100: #Creamos iteración que funcionará mientras 'numero' esté entre 1 y 100\n",
        "    numeroRandom=random.randint(numeroMinimo, numeroMaximo) #Haremos que el programa genere un número random con .randint, diciendole que ese número esté entre el número mínimo y el número máximo\n",
        "    print(\"¿El número\", numeroRandom, \"es el que pensó? Puede responder de la siguiente manera: 'mayor', 'menor' o 'igual'\") #Le preguntaremos al usuario si el número que generó fue el que usted pensó. Le damos las opciones de respuesta que puede dar\n",
        "    rta = input(\"Ingrese su respuesta: \") #Hacemos que el usuario responda y dependiendo de su respuesta sucederá lo siguiente\n",
        "    if rta == 'mayor': #Si su respuesta es que el número que él pensó es mayor entonces responderá 'mayor' y...\n",
        "        numeroMinimo = numeroRandom + 1 # ... actualizamos al número mínimo sumándole al número random un 1\n",
        "    elif rta == 'menor': #Si su respuesta es que el número que él pensó es menor entonces responderá 'manor' y...\n",
        "        numeroMaximo = numeroRandom - 1 # ... actualizamos al número máximo restándole al número random un 1\n",
        "    elif rta == 'igual': # Si su respuesta es 'igual' entonces ...\n",
        "        break # Rompemos la iteración\n",
        "print(\"El\", numeroRandom, \"fue el que usted pensó\") #Imprimimos el número que la persona pensó\n",
        "print(\"Fin de la iteración\") #Fin de la iteración"
      ]
    },
    {
      "cell_type": "markdown",
      "metadata": {
        "id": "scP21GBKuABI"
      },
      "source": [
        "#### 7. Implementar un programa que ingrese un número de 2 a 50 y muestre sus divisores.\n",
        "##### Solución:\n",
        "La documentación del código está en el mismo código al ponerse comentarios. De esta manera se entenderá más fácil\n",
        "##### Código:\n"
      ]
    },
    {
      "cell_type": "code",
      "execution_count": null,
      "metadata": {
        "id": "yJva9XdWuABJ",
        "outputId": "e14abba3-d117-4e22-e916-39351c3de1a6"
      },
      "outputs": [
        {
          "name": "stdout",
          "output_type": "stream",
          "text": [
            "Los devisores de 44 son [1, 2, 4, 11, 22, 44]\n"
          ]
        }
      ],
      "source": [
        "n = int(input(\"Ingrese un número entero del 2 al 50: \")) #Le pedimos al usuario que ingrese un el número el cual el quiere saber sus divisores. Este número debe estar entre 2 y 50\n",
        "d = 1 # 'd' va a ser el denominador de la división que se hará con 'n'.\n",
        "divisoresLista = [] # Creamos una lista para que los divisores entren en esa lista\n",
        "\n",
        "while n >= d: #Ponemos iteración siempre que 'n' sea mayor o igual a 'd'\n",
        "    #Ponemos condicionales para los casos que pueden ocurrir\n",
        "    if n%d == 0: #EL primer caso será que si n%d es igual a 0 entonces es divisor\n",
        "        divisoresLista.append(d) # Si es así añadimos a la lista\n",
        "        d += 1 # Sumamos 1 a d\n",
        "    else: # Sino solo sumamos 1 a d\n",
        "        d += 1\n",
        "print(\"Los devisores de\", n, \"son\", divisoresLista) # Ya cuando se termina la iteración nos votará los divisores de n."
      ]
    },
    {
      "cell_type": "markdown",
      "metadata": {
        "id": "IG3ornxHuABJ"
      },
      "source": [
        "#### 8. Implementar el algoritmo que muestre los números primos del 1 al 100. Nota: use funciones\n",
        "##### Solución\n",
        "Tristemente este ejercicio no fui capaz de hacerlo :(\n",
        "---\n",
        "### Fin del Reto\n",
        "### Espero haya sido de tu agrado"
      ]
    }
  ],
  "metadata": {
    "kernelspec": {
      "display_name": "Python 3",
      "language": "python",
      "name": "python3"
    },
    "language_info": {
      "codemirror_mode": {
        "name": "ipython",
        "version": 3
      },
      "file_extension": ".py",
      "mimetype": "text/x-python",
      "name": "python",
      "nbconvert_exporter": "python",
      "pygments_lexer": "ipython3",
      "version": "3.11.4"
    },
    "colab": {
      "provenance": [],
      "include_colab_link": true
    }
  },
  "nbformat": 4,
  "nbformat_minor": 0
}